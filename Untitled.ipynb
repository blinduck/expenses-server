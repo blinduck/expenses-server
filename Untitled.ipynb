{
 "cells": [
  {
   "cell_type": "markdown",
   "metadata": {},
   "source": []
  },
  {
   "cell_type": "code",
   "execution_count": 1,
   "metadata": {
    "collapsed": false
   },
   "outputs": [
    {
     "name": "stdout",
     "output_type": "stream",
     "text": [
      "{'username': 'whee', 'password': 'password', 'household': 'something', 'password_repeat': 'password'}\n",
      "valid True\n"
     ]
    }
   ],
   "source": [
    "from api.serializers import UserSerializer\n",
    "\n",
    "data ={'household': 'something', \"username\":\"whee\", \"password\": \"password\", \"password_repeat\": \"password\"}\n",
    "print(data)\n",
    "\n",
    "ser = UserSerializer(data=data)\n",
    "print('valid', ser.is_valid())\n",
    "user= ser.save()\n"
   ]
  },
  {
   "cell_type": "code",
   "execution_count": 3,
   "metadata": {
    "collapsed": false
   },
   "outputs": [
    {
     "name": "stdout",
     "output_type": "stream",
     "text": [
      "/api/v1/records\n"
     ]
    }
   ],
   "source": [
    "from django.core.urlresolvers import reverse\n",
    "print(reverse('records_list'))"
   ]
  },
  {
   "cell_type": "code",
   "execution_count": null,
   "metadata": {
    "collapsed": true
   },
   "outputs": [],
   "source": []
  }
 ],
 "metadata": {
  "kernelspec": {
   "display_name": "Django Shell-Plus",
   "language": "python",
   "name": "django_extensions"
  },
  "language_info": {
   "codemirror_mode": {
    "name": "ipython",
    "version": 3
   },
   "file_extension": ".py",
   "mimetype": "text/x-python",
   "name": "python",
   "nbconvert_exporter": "python",
   "pygments_lexer": "ipython3",
   "version": "3.5.2+"
  }
 },
 "nbformat": 4,
 "nbformat_minor": 2
}
