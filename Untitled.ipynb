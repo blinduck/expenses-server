{
 "cells": [
  {
   "cell_type": "code",
   "execution_count": 26,
   "metadata": {
    "collapsed": true
   },
   "outputs": [],
   "source": [
    "from django.db.models.functions import Trunc\n",
    "h = Household.objects.last()\n",
    "categories = Category.objects.filter(household=h).order_by('user')\n",
    "records = h.record_set.all()\n",
    "from django.db.models import Sum\n"
   ]
  },
  {
   "cell_type": "code",
   "execution_count": 19,
   "metadata": {
    "collapsed": false
   },
   "outputs": [],
   "source": [
    "def records_for_month(records, month):\n",
    "    return records.filter(time__month=month)"
   ]
  },
  {
   "cell_type": "code",
   "execution_count": 77,
   "metadata": {
    "collapsed": false
   },
   "outputs": [],
   "source": [
    "def get_key(cat):\n",
    "    return \"{}({})\".format(c.name, c.user if c.user else c.cat_type)\n",
    "headers = ['Month', 'Uncategorized']\n",
    "\n",
    "for c in categories:\n",
    "    headers.append(get_key(c))\n",
    "    \n",
    "for user in h.user_set.all():\n",
    "    headers.append('Uncategorized({})'.format(user))"
   ]
  },
  {
   "cell_type": "code",
   "execution_count": 78,
   "metadata": {
    "collapsed": false
   },
   "outputs": [
    {
     "name": "stdout",
     "output_type": "stream",
     "text": [
      "['Month', 'Uncategorized', 'earphones(deepan)', 'newwwww(deepan)', 'whattt(deepan)', 'whutty(deepan)', 'test2(deepan)', 'd2(julianne)', 'asdf(julianne)', 'fuck(julianne)', 'd1(julianne)', 'what what in the butt(julianne)', 'cool(Household)', 'asdf(Household)', 'something(Personal)', 'Uncategorized(deepan)', 'Uncategorized(julianne)']\n"
     ]
    }
   ],
   "source": [
    "print(headers)"
   ]
  },
  {
   "cell_type": "code",
   "execution_count": 68,
   "metadata": {
    "collapsed": true
   },
   "outputs": [],
   "source": [
    "import csv\n"
   ]
  },
  {
   "cell_type": "code",
   "execution_count": 79,
   "metadata": {
    "collapsed": false
   },
   "outputs": [
    {
     "name": "stdout",
     "output_type": "stream",
     "text": [
      "1       earphones 0\n",
      "1       newwwww 0\n",
      "1       whattt 0\n",
      "1       whutty 0\n",
      "1       test2 0\n",
      "1       d2 120.00\n",
      "1       asdf 0\n",
      "1       fuck 0\n",
      "1       d1 0\n",
      "1       what what in the butt 0\n",
      "1       cool 0\n",
      "1       asdf 0\n",
      "1       something 0\n",
      "------------\n",
      "{'Uncategorized(deepan)': 0, 'earphones(deepan)': 0, 'whattt(deepan)': 0, 'Uncategorized(julianne)': 0, 'cool(Household)': 0, 'whutty(deepan)': 0, 'test2(deepan)': 0, 'what what in the butt(julianne)': 0, 'something(Personal)': 0, 'asdf(Household)': 0, 'Month': 1, 'asdf(julianne)': 0, 'd2(julianne)': Decimal('120.00'), 'fuck(julianne)': 0, 'd1(julianne)': 0, 'newwwww(deepan)': 0}\n",
      "2       earphones 0\n",
      "2       newwwww 0\n",
      "2       whattt 0\n",
      "2       whutty 120.00\n",
      "2       test2 0\n",
      "2       d2 0\n",
      "2       asdf 15.00\n",
      "2       fuck 20.00\n",
      "2       d1 0\n",
      "2       what what in the butt 110.00\n",
      "2       cool 0\n",
      "2       asdf 0\n",
      "2       something 10.00\n",
      "------------\n",
      "{'Uncategorized(deepan)': Decimal('20.00'), 'earphones(deepan)': 0, 'whattt(deepan)': 0, 'Uncategorized(julianne)': 0, 'cool(Household)': 0, 'whutty(deepan)': Decimal('120.00'), 'test2(deepan)': 0, 'what what in the butt(julianne)': Decimal('110.00'), 'something(Personal)': Decimal('10.00'), 'asdf(Household)': 0, 'Month': 2, 'asdf(julianne)': Decimal('15.00'), 'd2(julianne)': 0, 'fuck(julianne)': Decimal('20.00'), 'd1(julianne)': 0, 'newwwww(deepan)': 0}\n",
      "3       earphones 0\n",
      "3       newwwww 0\n",
      "3       whattt 0\n",
      "3       whutty 0\n",
      "3       test2 0\n",
      "3       d2 0\n",
      "3       asdf 0\n",
      "3       fuck 0\n",
      "3       d1 0\n",
      "3       what what in the butt 0\n",
      "3       cool 0\n",
      "3       asdf 0\n",
      "3       something 0\n",
      "------------\n",
      "{'Uncategorized(deepan)': 0, 'earphones(deepan)': 0, 'whattt(deepan)': 0, 'Uncategorized(julianne)': 0, 'cool(Household)': 0, 'whutty(deepan)': 0, 'test2(deepan)': 0, 'what what in the butt(julianne)': 0, 'something(Personal)': 0, 'asdf(Household)': 0, 'Month': 3, 'asdf(julianne)': 0, 'd2(julianne)': 0, 'fuck(julianne)': 0, 'd1(julianne)': 0, 'newwwww(deepan)': 0}\n",
      "4       earphones 0\n",
      "4       newwwww 0\n",
      "4       whattt 0\n",
      "4       whutty 100.00\n",
      "4       test2 0\n",
      "4       d2 0\n",
      "4       asdf 0\n",
      "4       fuck 0\n",
      "4       d1 0\n",
      "4       what what in the butt 0\n",
      "4       cool 0\n",
      "4       asdf 0\n",
      "4       something 0\n",
      "------------\n",
      "{'Uncategorized(deepan)': Decimal('199.00'), 'earphones(deepan)': 0, 'whattt(deepan)': 0, 'Uncategorized(julianne)': 0, 'cool(Household)': 0, 'whutty(deepan)': Decimal('100.00'), 'test2(deepan)': 0, 'what what in the butt(julianne)': 0, 'something(Personal)': 0, 'asdf(Household)': 0, 'Month': 4, 'asdf(julianne)': 0, 'd2(julianne)': 0, 'fuck(julianne)': 0, 'd1(julianne)': 0, 'newwwww(deepan)': 0}\n",
      "5       earphones 0\n",
      "5       newwwww 0\n",
      "5       whattt 0\n",
      "5       whutty 10.00\n",
      "5       test2 0\n",
      "5       d2 0\n",
      "5       asdf 0\n",
      "5       fuck 0\n",
      "5       d1 0\n",
      "5       what what in the butt 0\n",
      "5       cool 0\n",
      "5       asdf 0\n",
      "5       something 0\n",
      "------------\n",
      "{'Uncategorized(deepan)': 0, 'earphones(deepan)': 0, 'whattt(deepan)': 0, 'Uncategorized(julianne)': 0, 'cool(Household)': 0, 'whutty(deepan)': Decimal('10.00'), 'test2(deepan)': 0, 'what what in the butt(julianne)': 0, 'something(Personal)': 0, 'asdf(Household)': 0, 'Month': 5, 'asdf(julianne)': 0, 'd2(julianne)': 0, 'fuck(julianne)': 0, 'd1(julianne)': 0, 'newwwww(deepan)': 0}\n",
      "6       earphones 0\n",
      "6       newwwww 0\n",
      "6       whattt 0\n",
      "6       whutty 130.00\n",
      "6       test2 0\n",
      "6       d2 0\n",
      "6       asdf 0\n",
      "6       fuck 288.00\n",
      "6       d1 0\n",
      "6       what what in the butt 55.00\n",
      "6       cool 23.00\n",
      "6       asdf 0\n",
      "6       something 326.00\n",
      "------------\n",
      "{'Uncategorized(deepan)': Decimal('16.00'), 'earphones(deepan)': 0, 'whattt(deepan)': 0, 'Uncategorized(julianne)': Decimal('20.60'), 'cool(Household)': Decimal('23.00'), 'whutty(deepan)': Decimal('130.00'), 'test2(deepan)': 0, 'what what in the butt(julianne)': Decimal('55.00'), 'something(Personal)': Decimal('326.00'), 'asdf(Household)': 0, 'Month': 6, 'asdf(julianne)': 0, 'd2(julianne)': 0, 'fuck(julianne)': Decimal('288.00'), 'd1(julianne)': 0, 'newwwww(deepan)': 0}\n",
      "7       earphones 0\n",
      "7       newwwww 0\n",
      "7       whattt 0\n",
      "7       whutty 223.00\n",
      "7       test2 0\n",
      "7       d2 0\n",
      "7       asdf 0\n",
      "7       fuck 0\n",
      "7       d1 0\n",
      "7       what what in the butt 0\n",
      "7       cool 123.00\n",
      "7       asdf 3.00\n",
      "7       something 0\n",
      "------------\n",
      "{'Uncategorized(deepan)': Decimal('123.00'), 'earphones(deepan)': 0, 'whattt(deepan)': 0, 'Uncategorized(julianne)': 0, 'cool(Household)': Decimal('123.00'), 'whutty(deepan)': Decimal('223.00'), 'test2(deepan)': 0, 'what what in the butt(julianne)': 0, 'something(Personal)': 0, 'asdf(Household)': Decimal('3.00'), 'Month': 7, 'asdf(julianne)': 0, 'd2(julianne)': 0, 'fuck(julianne)': 0, 'd1(julianne)': 0, 'newwwww(deepan)': 0}\n",
      "8       earphones 0\n",
      "8       newwwww 0\n",
      "8       whattt 0\n",
      "8       whutty 0\n",
      "8       test2 0\n",
      "8       d2 0\n",
      "8       asdf 0\n",
      "8       fuck 0\n",
      "8       d1 0\n",
      "8       what what in the butt 0\n",
      "8       cool 0\n",
      "8       asdf 0\n",
      "8       something 0\n",
      "------------\n",
      "{'Uncategorized(deepan)': Decimal('2.00'), 'earphones(deepan)': 0, 'whattt(deepan)': 0, 'Uncategorized(julianne)': 0, 'cool(Household)': 0, 'whutty(deepan)': 0, 'test2(deepan)': 0, 'what what in the butt(julianne)': 0, 'something(Personal)': 0, 'asdf(Household)': 0, 'Month': 8, 'asdf(julianne)': 0, 'd2(julianne)': 0, 'fuck(julianne)': 0, 'd1(julianne)': 0, 'newwwww(deepan)': 0}\n",
      "9       earphones 0\n",
      "9       newwwww 0\n",
      "9       whattt 0\n",
      "9       whutty 0\n",
      "9       test2 0\n",
      "9       d2 0\n",
      "9       asdf 0\n",
      "9       fuck 0\n",
      "9       d1 0\n",
      "9       what what in the butt 0\n",
      "9       cool 0\n",
      "9       asdf 0\n",
      "9       something 0\n",
      "------------\n",
      "{'Uncategorized(deepan)': 0, 'earphones(deepan)': 0, 'whattt(deepan)': 0, 'Uncategorized(julianne)': 0, 'cool(Household)': 0, 'whutty(deepan)': 0, 'test2(deepan)': 0, 'what what in the butt(julianne)': 0, 'something(Personal)': 0, 'asdf(Household)': 0, 'Month': 9, 'asdf(julianne)': 0, 'd2(julianne)': 0, 'fuck(julianne)': 0, 'd1(julianne)': 0, 'newwwww(deepan)': 0}\n",
      "10       earphones 0\n",
      "10       newwwww 0\n",
      "10       whattt 0\n",
      "10       whutty 0\n",
      "10       test2 0\n",
      "10       d2 0\n",
      "10       asdf 0\n",
      "10       fuck 0\n",
      "10       d1 0\n",
      "10       what what in the butt 0\n",
      "10       cool 0\n",
      "10       asdf 0\n",
      "10       something 0\n",
      "------------\n",
      "{'Uncategorized(deepan)': 0, 'earphones(deepan)': 0, 'whattt(deepan)': 0, 'Uncategorized(julianne)': 0, 'cool(Household)': 0, 'whutty(deepan)': 0, 'test2(deepan)': 0, 'what what in the butt(julianne)': 0, 'something(Personal)': 0, 'asdf(Household)': 0, 'Month': 10, 'asdf(julianne)': 0, 'd2(julianne)': 0, 'fuck(julianne)': 0, 'd1(julianne)': 0, 'newwwww(deepan)': 0}\n",
      "11       earphones 0\n",
      "11       newwwww 100.00\n",
      "11       whattt 223.00\n",
      "11       whutty 123.00\n",
      "11       test2 0\n",
      "11       d2 0\n",
      "11       asdf 0\n",
      "11       fuck 0\n",
      "11       d1 0\n",
      "11       what what in the butt 0\n",
      "11       cool 0\n",
      "11       asdf 0\n",
      "11       something 0\n",
      "------------\n",
      "{'Uncategorized(deepan)': Decimal('222.00'), 'earphones(deepan)': 0, 'whattt(deepan)': Decimal('223.00'), 'Uncategorized(julianne)': 0, 'cool(Household)': 0, 'whutty(deepan)': Decimal('123.00'), 'test2(deepan)': 0, 'what what in the butt(julianne)': 0, 'something(Personal)': 0, 'asdf(Household)': 0, 'Month': 11, 'asdf(julianne)': 0, 'd2(julianne)': 0, 'fuck(julianne)': 0, 'd1(julianne)': 0, 'newwwww(deepan)': Decimal('100.00')}\n",
      "12       earphones 0\n",
      "12       newwwww 10.00\n",
      "12       whattt 0\n",
      "12       whutty 0\n",
      "12       test2 0\n",
      "12       d2 0\n",
      "12       asdf 0\n",
      "12       fuck 0\n",
      "12       d1 0\n",
      "12       what what in the butt 0\n",
      "12       cool 0\n",
      "12       asdf 0\n",
      "12       something 0\n",
      "------------\n",
      "{'Uncategorized(deepan)': Decimal('33.00'), 'earphones(deepan)': 0, 'whattt(deepan)': 0, 'Uncategorized(julianne)': 0, 'cool(Household)': 0, 'whutty(deepan)': 0, 'test2(deepan)': 0, 'what what in the butt(julianne)': 0, 'something(Personal)': 0, 'asdf(Household)': 0, 'Month': 12, 'asdf(julianne)': 0, 'd2(julianne)': 0, 'fuck(julianne)': 0, 'd1(julianne)': 0, 'newwwww(deepan)': Decimal('10.00')}\n"
     ]
    }
   ],
   "source": [
    "with open('expenses.csv', \"w\") as f:\n",
    "    writer = csv.DictWriter(f, headers)\n",
    "    writer.writeheader()\n",
    "    for m in range(1,13):\n",
    "        data = {'Month': m}\n",
    "        m_records = records_for_month(records, m)\n",
    "        for c in categories.order_by('user'):\n",
    "            total = m_records.filter(categories=c).aggregate(total=Sum('amount'))['total'] or 0\n",
    "            data[get_key(c)] = total\n",
    "        for user in h.user_set.all():\n",
    "            total = m_records.filter(\n",
    "                categories__isnull=True).filter(\n",
    "                user=user).aggregate(\n",
    "                total=Sum('amount'))['total'] or 0\n",
    "            data['Uncategorized({})'.format(user)] = total\n",
    "        writer.writerow(data)"
   ]
  },
  {
   "cell_type": "code",
   "execution_count": 90,
   "metadata": {
    "collapsed": false
   },
   "outputs": [],
   "source": [
    "headers = ['Month']\n",
    "for mb in MasterBudget.objects.filter(household=h):\n",
    "    headers.append(\"{}({})\".format(mb.name, mb.user))"
   ]
  },
  {
   "cell_type": "code",
   "execution_count": 91,
   "metadata": {
    "collapsed": false
   },
   "outputs": [
    {
     "data": {
      "text/plain": [
       "['Month',\n",
       " 'weekly budget(deepan)',\n",
       " 'daily test(deepan)',\n",
       " 'restaurnant(deepan)',\n",
       " \"ju's daily(julianne)\"]"
      ]
     },
     "execution_count": 91,
     "metadata": {},
     "output_type": "execute_result"
    }
   ],
   "source": [
    "headers"
   ]
  },
  {
   "cell_type": "code",
   "execution_count": 87,
   "metadata": {
    "collapsed": true
   },
   "outputs": [],
   "source": [
    "budgets = Budget.objects.filter(masterbudget__household=h)"
   ]
  },
  {
   "cell_type": "code",
   "execution_count": 97,
   "metadata": {
    "collapsed": false
   },
   "outputs": [],
   "source": [
    "with open('budgets.csv', 'w') as f:\n",
    "    writer = csv.DictWriter(f, headers)\n",
    "    writer.writeheader()\n",
    "    for m in range(1,13):\n",
    "        m_budgets = budgets.filter(end_time__month = m)\n",
    "        data = {'Month': m}\n",
    "        for budget in m_budgets:\n",
    "            total =  budget.masterbudget.amount\n",
    "            spent = total - budget.remainder\n",
    "            data[\"{}({})\".format(budget.masterbudget.name, budget.masterbudget.user)] = \"{}/{}\".format(spent, total)\n",
    "        writer.writerow(data)    "
   ]
  },
  {
   "cell_type": "code",
   "execution_count": null,
   "metadata": {
    "collapsed": true
   },
   "outputs": [],
   "source": []
  }
 ],
 "metadata": {
  "kernelspec": {
   "display_name": "Django Shell-Plus",
   "language": "python",
   "name": "django_extensions"
  },
  "language_info": {
   "codemirror_mode": {
    "name": "ipython",
    "version": 3
   },
   "file_extension": ".py",
   "mimetype": "text/x-python",
   "name": "python",
   "nbconvert_exporter": "python",
   "pygments_lexer": "ipython3",
   "version": "3.5.3"
  }
 },
 "nbformat": 4,
 "nbformat_minor": 2
}
