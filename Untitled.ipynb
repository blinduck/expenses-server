{
 "cells": [
  {
   "cell_type": "code",
   "execution_count": 1,
   "metadata": {
    "collapsed": false
   },
   "outputs": [
    {
     "name": "stdout",
     "output_type": "stream",
     "text": [
      "{'_masterbudget_cache': <MasterBudget: restaurnant>, 'start_time': datetime.datetime(2016, 12, 1, 0, 0, tzinfo=tzutc()), '_state': <django.db.models.base.ModelState object at 0x7f9570d14550>, 'end_time': datetime.datetime(2016, 12, 31, 23, 59, 59, 999999, tzinfo=tzutc()), 'remainder': Decimal('200.00'), 'masterbudget_id': 1, 'id': 13}\n",
      "<QuerySet []>\n"
     ]
    }
   ],
   "source": [
    "from api.models import *\n",
    "from datetime import datetime\n",
    "mb1 = MasterBudget.objects.get(pk=1)\n",
    "budget = Budget.create_budget(mb1)\n",
    "\n",
    "print(budget.__dict__)\n",
    "\n",
    "time = datetime.now()\n",
    "q = Budget.objects.filter(start_time__date__gt=time).filter(end_time__date__lt=time)\n",
    "print(q)\n"
   ]
  },
  {
   "cell_type": "code",
   "execution_count": 4,
   "metadata": {
    "collapsed": false
   },
   "outputs": [
    {
     "name": "stdout",
     "output_type": "stream",
     "text": [
      "<QuerySet [<Budget: restaurnant>]>\n"
     ]
    }
   ],
   "source": [
    "q = Budget.objects.filter(start_time__date__lt= time).filter(end_time__date__gt=time)\n",
    "print(q)"
   ]
  },
  {
   "cell_type": "code",
   "execution_count": null,
   "metadata": {
    "collapsed": true
   },
   "outputs": [],
   "source": []
  }
 ],
 "metadata": {
  "kernelspec": {
   "display_name": "Django Shell-Plus",
   "language": "python",
   "name": "django_extensions"
  },
  "language_info": {
   "codemirror_mode": {
    "name": "ipython",
    "version": 3
   },
   "file_extension": ".py",
   "mimetype": "text/x-python",
   "name": "python",
   "nbconvert_exporter": "python",
   "pygments_lexer": "ipython3",
   "version": "3.5.2+"
  }
 },
 "nbformat": 4,
 "nbformat_minor": 2
}
